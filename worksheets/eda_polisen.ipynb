{
 "cells": [
  {
   "cell_type": "code",
   "execution_count": null,
   "metadata": {},
   "outputs": [],
   "source": [
    "import requests\n",
    "import json\n",
    "\n",
    "url = \"https://polisen.se/api/events\"\n",
    "response = requests.get(url)\n",
    "response.encoding = 'utf-8'\n",
    "\n",
    "data = response.json()\n",
    "\n",
    "print(f\"Totala antal händelser: {len(data)}\")\n",
    "\n",
    "print(json.dumps(data, ensure_ascii=False, indent=4))\n",
    "\n",
    "for event in data:\n",
    "    print(event['name'])\n",
    "\n",
    "    if 'location' in event:\n",
    "        print(event['location']['name'])\n",
    "    else:\n",
    "        print(\"No location\")\n",
    "\n",
    "\n",
    "\n"
   ]
  },
  {
   "cell_type": "code",
   "execution_count": null,
   "metadata": {},
   "outputs": [],
   "source": [
    "location_count = len([event['location'] for event in data if 'location' in event])\n",
    "\n",
    "print(f\"Total number of names: {location_count}\")"
   ]
  },
  {
   "cell_type": "code",
   "execution_count": null,
   "metadata": {},
   "outputs": [],
   "source": [
    "stockholm_count = len([event for event in data if 'location' in event and event['location']['name'] == 'Stockholm'])\n",
    "\n",
    "\n",
    "goteborg_count = len([event for event in data if 'location' in event and event['location']['name'] == 'Göteborg'])\n",
    "\n",
    "print(f\"Total number of events in Stockholm: {stockholm_count}\")\n",
    "print(f\"Total number of events in Göteborg: {goteborg_count}\")"
   ]
  },
  {
   "cell_type": "code",
   "execution_count": null,
   "metadata": {},
   "outputs": [],
   "source": [
    "import requests\n",
    "import json\n",
    "\n",
    "url = \"https://polisen.se/api/events?locationname=Kiruna\"\n",
    "response = requests.get(url)\n",
    "response.encoding = 'utf-8'\n",
    "\n",
    "data = response.json()\n",
    "\n",
    "\n",
    "\n",
    "# Filtrera händelserna för att endast inkludera de som inträffat i Kiruna\n",
    "kiruna_events = [event for event in data if 'location' in event and event['location']]\n",
    "\n",
    "# Skriv ut det totala antalet händelser i Kiruna län\n",
    "print(f\"Totalt antal händelser i Stockholms län: {len(kiruna_events)}\")\n",
    "for event in kiruna_events:\n",
    "    print(event['name'])\n",
    "    print()"
   ]
  }
 ],
 "metadata": {
  "kernelspec": {
   "display_name": "Python 3",
   "language": "python",
   "name": "python3"
  },
  "language_info": {
   "codemirror_mode": {
    "name": "ipython",
    "version": 3
   },
   "file_extension": ".py",
   "mimetype": "text/x-python",
   "name": "python",
   "nbconvert_exporter": "python",
   "pygments_lexer": "ipython3",
   "version": "3.11.8"
  }
 },
 "nbformat": 4,
 "nbformat_minor": 2
}
