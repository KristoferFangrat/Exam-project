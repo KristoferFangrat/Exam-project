{
 "cells": [
  {
   "cell_type": "code",
   "execution_count": null,
   "metadata": {},
   "outputs": [],
   "source": [
    "%pip install pyscbwrapper\n",
    "from pyscbwrapper import SCB\n",
    "\n"
   ]
  },
  {
   "cell_type": "code",
   "execution_count": 30,
   "metadata": {},
   "outputs": [],
   "source": [
    "scb = SCB('sv')"
   ]
  },
  {
   "cell_type": "code",
   "execution_count": 31,
   "metadata": {},
   "outputs": [
    {
     "data": {
      "text/plain": [
       "[{'id': 'AA', 'type': 'l', 'text': 'Ämnesövergripande statistik'},\n",
       " {'id': 'AM', 'type': 'l', 'text': 'Arbetsmarknad'},\n",
       " {'id': 'BE', 'type': 'l', 'text': 'Befolkning'},\n",
       " {'id': 'BO', 'type': 'l', 'text': 'Boende, byggande och bebyggelse'},\n",
       " {'id': 'EN', 'type': 'l', 'text': 'Energi'},\n",
       " {'id': 'FM', 'type': 'l', 'text': 'Finansmarknad'},\n",
       " {'id': 'HA', 'type': 'l', 'text': 'Handel med varor och tjänster'},\n",
       " {'id': 'HE', 'type': 'l', 'text': 'Hushållens ekonomi'},\n",
       " {'id': 'HS', 'type': 'l', 'text': 'Hälso- och sjukvård'},\n",
       " {'id': 'JO', 'type': 'l', 'text': 'Jord- och skogsbruk, fiske'},\n",
       " {'id': 'KU', 'type': 'l', 'text': 'Kultur och fritid'},\n",
       " {'id': 'LE', 'type': 'l', 'text': 'Levnadsförhållanden'},\n",
       " {'id': 'ME', 'type': 'l', 'text': 'Demokrati'},\n",
       " {'id': 'MI', 'type': 'l', 'text': 'Miljö'},\n",
       " {'id': 'NR', 'type': 'l', 'text': 'Nationalräkenskaper'},\n",
       " {'id': 'NV', 'type': 'l', 'text': 'Näringsverksamhet'},\n",
       " {'id': 'OE', 'type': 'l', 'text': 'Offentlig ekonomi'},\n",
       " {'id': 'OV', 'type': 'l', 'text': 'Övrigt'},\n",
       " {'id': 'PR', 'type': 'l', 'text': 'Priser och konsumtion'},\n",
       " {'id': 'SO', 'type': 'l', 'text': 'Socialtjänst'},\n",
       " {'id': 'TK', 'type': 'l', 'text': 'Transporter och kommunikationer'},\n",
       " {'id': 'UF', 'type': 'l', 'text': 'Utbildning och forskning'}]"
      ]
     },
     "execution_count": 31,
     "metadata": {},
     "output_type": "execute_result"
    }
   ],
   "source": [
    "scb.info()"
   ]
  },
  {
   "cell_type": "code",
   "execution_count": 32,
   "metadata": {},
   "outputs": [],
   "source": [
    "scb.go_down('SO')"
   ]
  },
  {
   "cell_type": "code",
   "execution_count": 33,
   "metadata": {},
   "outputs": [
    {
     "data": {
      "text/plain": [
       "[{'id': 'SO0203', 'type': 'l', 'text': 'Statistik om ekonomiskt bistånd'}]"
      ]
     },
     "execution_count": 33,
     "metadata": {},
     "output_type": "execute_result"
    }
   ],
   "source": [
    "scb.info()"
   ]
  },
  {
   "cell_type": "code",
   "execution_count": 34,
   "metadata": {},
   "outputs": [],
   "source": [
    "scb.go_down()"
   ]
  }
 ],
 "metadata": {
  "kernelspec": {
   "display_name": "Python 3",
   "language": "python",
   "name": "python3"
  },
  "language_info": {
   "codemirror_mode": {
    "name": "ipython",
    "version": 3
   },
   "file_extension": ".py",
   "mimetype": "text/x-python",
   "name": "python",
   "nbconvert_exporter": "python",
   "pygments_lexer": "ipython3",
   "version": "3.11.8"
  }
 },
 "nbformat": 4,
 "nbformat_minor": 2
}
