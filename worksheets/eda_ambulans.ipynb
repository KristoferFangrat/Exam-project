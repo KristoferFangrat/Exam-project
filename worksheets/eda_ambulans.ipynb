{
 "cells": [
  {
   "cell_type": "code",
   "execution_count": 7,
   "metadata": {},
   "outputs": [
    {
     "name": "stdout",
     "output_type": "stream",
     "text": [
      "Totala antal händelser: 2\n",
      "{\n",
      "    \"count\": 1,\n",
      "    \"values\": [\n",
      "        {\n",
      "            \"id\": \"2281\",\n",
      "            \"title\": \"Sundsvall\",\n",
      "            \"type\": \"K\"\n",
      "        }\n",
      "    ]\n",
      "}\n"
     ]
    }
   ],
   "source": [
    "import requests\n",
    "import json\n",
    "\n",
    "url = \"http://api.kolada.se/v2/municipality?title=Stockholm\"\n",
    "response = requests.get(url)\n",
    "response.encoding = 'utf-8'\n",
    "\n",
    "data = response.json()\n",
    "\n",
    "print(f\"Totala antal händelser: {len(data)}\")\n",
    "\n",
    "print(json.dumps(data, ensure_ascii=False, indent=4))"
   ]
  }
 ],
 "metadata": {
  "kernelspec": {
   "display_name": "Python 3",
   "language": "python",
   "name": "python3"
  },
  "language_info": {
   "codemirror_mode": {
    "name": "ipython",
    "version": 3
   },
   "file_extension": ".py",
   "mimetype": "text/x-python",
   "name": "python",
   "nbconvert_exporter": "python",
   "pygments_lexer": "ipython3",
   "version": "3.11.8"
  }
 },
 "nbformat": 4,
 "nbformat_minor": 2
}
